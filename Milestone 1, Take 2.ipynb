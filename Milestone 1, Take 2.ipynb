{
 "cells": [
  {
   "cell_type": "code",
   "execution_count": 8,
   "metadata": {
    "collapsed": false
   },
   "outputs": [],
   "source": [
    "from IPython.display import clear_output\n",
    "\n",
    "def display_board(board):\n",
    "    \n",
    "    clear_output()\n",
    "    \n",
    "    print '|' + board[7] + '|' + board[8] + '|' + board[9] + '|'\n",
    "    print '|' + board[4] + '|' + board[5] + '|' + board[6] + '|'\n",
    "    print '|' + board[1] + '|' + board[2] + '|' + board[3] + '|'"
   ]
  },
  {
   "cell_type": "code",
   "execution_count": 9,
   "metadata": {
    "collapsed": true
   },
   "outputs": [],
   "source": [
    "def choose_XO():\n",
    "    marker=''\n",
    "    \n",
    "    while not (marker=='X' or marker=='O'):\n",
    "        marker=raw_input('Player 1, choose \"X\" or \"O\":  ').upper()\n",
    "    if marker=='X':\n",
    "        return ('X','O')\n",
    "    else:\n",
    "        return ('O','X')"
   ]
  },
  {
   "cell_type": "code",
   "execution_count": 10,
   "metadata": {
    "collapsed": false
   },
   "outputs": [],
   "source": [
    "def is_position_open(board, position):\n",
    "    return board[int(position)] == ' '"
   ]
  },
  {
   "cell_type": "code",
   "execution_count": 11,
   "metadata": {
    "collapsed": false
   },
   "outputs": [],
   "source": [
    "def player_input_position(board, marker):\n",
    "    position=' '\n",
    "    accepted_values=['1','2','3','4','5','6','7','8','9']\n",
    "    if marker==marker_choices[0]:\n",
    "        playerno='1'\n",
    "    else:\n",
    "        playerno='2'\n",
    "    while not position in accepted_values or not is_position_open(board,int(position)):\n",
    "        position=raw_input('Player {x}, please input an open position on the board from 1-9:  '.format(x=playerno))\n",
    "    board[int(position)]=marker"
   ]
  },
  {
   "cell_type": "code",
   "execution_count": 12,
   "metadata": {
    "collapsed": false
   },
   "outputs": [],
   "source": [
    "def is_full_board(board):\n",
    "    for i in range(1,10):\n",
    "        if is_position_open(board,i):\n",
    "            return False\n",
    "    else:\n",
    "        return True"
   ]
  },
  {
   "cell_type": "code",
   "execution_count": 13,
   "metadata": {
    "collapsed": true
   },
   "outputs": [],
   "source": [
    "def is_winner(board,marker):\n",
    "    return ((board[7]==marker and board[8]==marker and board[9]==marker) or\n",
    "            (board[4]==marker and board[5]==marker and board[6]==marker) or\n",
    "            (board[1]==marker and board[2]==marker and board[3]==marker) or\n",
    "            (board[1]==marker and board[4]==marker and board[7]==marker) or\n",
    "            (board[2]==marker and board[5]==marker and board[8]==marker) or\n",
    "            (board[3]==marker and board[6]==marker and board[9]==marker) or\n",
    "            (board[1]==marker and board[5]==marker and board[9]==marker) or\n",
    "            (board[7]==marker and board[5]==marker and board[3]==marker))"
   ]
  },
  {
   "cell_type": "code",
   "execution_count": 14,
   "metadata": {
    "collapsed": false
   },
   "outputs": [
    {
     "name": "stdout",
     "output_type": "stream",
     "text": [
      "| | |X|\n",
      "|O|O|X|\n",
      "|X|O|X|\n",
      "Player 1 Wins!!!  Player 2 SUCKS!!!!!!!11\n"
     ]
    }
   ],
   "source": [
    "##MAP OUT MAIN PROGRAM BELOW\n",
    "\n",
    "board = [' '] *10\n",
    "marker_choices=choose_XO()\n",
    "\n",
    "#WHILE THE GAME IS STILL IN PLAY\n",
    "while True:\n",
    "    #PLAYER 1 HAS A TURN\n",
    "    player_input_position(board,marker_choices[0])\n",
    "    display_board(board)\n",
    "    if is_winner(board,marker_choices[0]):\n",
    "        print \"Player 1 Wins!!!  Player 2 SUCKS!!!!!!!11\"\n",
    "        break\n",
    "    elif is_full_board(board):\n",
    "        print \"Tie game.  You are both LOSERS!!!!!!11\"\n",
    "        break\n",
    "    #PLAYER 2 HAS A TURN\n",
    "    player_input_position(board,marker_choices[1])\n",
    "    display_board(board)\n",
    "    if is_winner(board,marker_choices[1]):\n",
    "        print \"Player 2 Wins!!!  Player 1 SUCKS!!!!!!!11\"\n",
    "        break\n",
    "    elif is_full_board(board):\n",
    "        print \"Tie game.  You are both LOSERS!!!!!!11\"\n",
    "        break"
   ]
  },
  {
   "cell_type": "code",
   "execution_count": null,
   "metadata": {
    "collapsed": false
   },
   "outputs": [],
   "source": []
  },
  {
   "cell_type": "code",
   "execution_count": null,
   "metadata": {
    "collapsed": false
   },
   "outputs": [],
   "source": []
  },
  {
   "cell_type": "code",
   "execution_count": null,
   "metadata": {
    "collapsed": true
   },
   "outputs": [],
   "source": []
  }
 ],
 "metadata": {
  "kernelspec": {
   "display_name": "Python 2",
   "language": "python",
   "name": "python2"
  },
  "language_info": {
   "codemirror_mode": {
    "name": "ipython",
    "version": 2
   },
   "file_extension": ".py",
   "mimetype": "text/x-python",
   "name": "python",
   "nbconvert_exporter": "python",
   "pygments_lexer": "ipython2",
   "version": "2.7.13"
  }
 },
 "nbformat": 4,
 "nbformat_minor": 2
}
